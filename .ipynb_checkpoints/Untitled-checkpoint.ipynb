{
 "cells": [
  {
   "cell_type": "code",
   "execution_count": 43,
   "metadata": {},
   "outputs": [],
   "source": [
    "import NLFEM\n",
    "import numpy as np\n",
    "import matplotlib.pyplot as plt"
   ]
  },
  {
   "cell_type": "code",
   "execution_count": 44,
   "metadata": {},
   "outputs": [],
   "source": [
    "x0=0\n",
    "y0=0\n",
    "a=2\n",
    "b=2\n",
    "\n",
    "coords = [[x0,y0],[x0+a,y0],[x0+a,y0+b],[x0,y0+b],[x0+a/2,y0],[x0+a,y0+b/2],[x0+a/2,y0+b],[x0,y0+b/2]]\n",
    "elemento = NLFEM.SerendipityC(coords)\n",
    "i=1\n",
    "j=1\n",
    "f = lambda z,n,e: e._J(z,n)[0][0]*e.dzpsis(z,n)[i][0]+e._J(z,n)[0][1]*e.dnpsis(z,n)[i][0]"
   ]
  },
  {
   "cell_type": "code",
   "execution_count": 45,
   "metadata": {},
   "outputs": [],
   "source": [
    "Z = elemento._dominioNaturalZ\n",
    "N = elemento._dominioNaturalN\n",
    "Z = []\n",
    "for z, n in zip(Z, N):\n",
    "    Z.append(f(z,n,e))"
   ]
  },
  {
   "cell_type": "code",
   "execution_count": null,
   "metadata": {},
   "outputs": [],
   "source": []
  }
 ],
 "metadata": {
  "kernelspec": {
   "display_name": "Python 3",
   "language": "python",
   "name": "python3"
  },
  "language_info": {
   "codemirror_mode": {
    "name": "ipython",
    "version": 3
   },
   "file_extension": ".py",
   "mimetype": "text/x-python",
   "name": "python",
   "nbconvert_exporter": "python",
   "pygments_lexer": "ipython3",
   "version": "3.7.5"
  }
 },
 "nbformat": 4,
 "nbformat_minor": 4
}
